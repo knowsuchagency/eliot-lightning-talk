{
 "cells": [
  {
   "cell_type": "code",
   "execution_count": 1,
   "metadata": {
    "ExecuteTime": {
     "end_time": "2018-01-12T17:05:06.754769Z",
     "start_time": "2018-01-12T17:05:02.774141Z"
    }
   },
   "outputs": [],
   "source": [
    "from pathlib import Path\n",
    "import typing as T\n",
    "import json\n",
    "import os\n",
    "\n",
    "\n",
    "from eliot import start_action, to_file, add_destinations\n",
    "from tinydb import TinyDB\n",
    "import requests\n",
    "\n",
    "\n",
    "with open('db.json', 'w'):\n",
    "        pass\n",
    "\n",
    "\n",
    "to_file(open('log', 'w'))\n",
    "\n",
    "\n",
    "def to_json_file():\n",
    "    json_file = Path('log.json')\n",
    "    json_file.write_text(json.dumps([]))\n",
    "    \n",
    "    def write_message(message: dict):\n",
    "        messages = json.loads(json_file.read_text())\n",
    "        messages.append(message)\n",
    "        json_file.write_text(json.dumps(messages))\n",
    "    \n",
    "    return write_message\n",
    "\n",
    "\n",
    "add_destinations(to_json_file())"
   ]
  },
  {
   "cell_type": "markdown",
   "metadata": {},
   "source": [
    "## Contrived example of [eliot](http://eliot.readthedocs.io/en/0.9.0/)\n",
    "\n",
    "This is just meant to show how we might go about using eliot to log the following steps:\n",
    "\n",
    "1. download the contents of a url\n",
    "2. marshal the content into json\n",
    "3. persist the marshaled content to a database"
   ]
  },
  {
   "cell_type": "code",
   "execution_count": 2,
   "metadata": {
    "ExecuteTime": {
     "end_time": "2018-01-12T17:05:08.394423Z",
     "start_time": "2018-01-12T17:05:06.896251Z"
    }
   },
   "outputs": [],
   "source": [
    "class MarshaledResponse(T.NamedTuple):\n",
    "    \"\"\"The result of a url being marshaled into json.\"\"\"\n",
    "    string: str     # the json-encoded string\n",
    "    from_url: str   # the url the string was marshaled from \n",
    "\n",
    "\n",
    "def download(url: str) -> requests.Response:\n",
    "    \"\"\"Download the url and return a response.\"\"\"\n",
    "    with start_action(action_type='download', url=url):\n",
    "        return requests.get(url)\n",
    "\n",
    "\n",
    "def marshal(response: requests.Response) -> T.Optional[MarshaledResponse]:\n",
    "    \"\"\"Return a json-formatted string from the response.\"\"\"\n",
    "    with start_action(action_type='marshal', url=response.url):\n",
    "        return MarshaledResponse(string=response.json(), from_url=response.url)\n",
    "\n",
    "\n",
    "def store(marshaled_response: MarshaledResponse, db: TinyDB) -> None:\n",
    "    \"\"\"Persist the json-encoded string to the database.\"\"\"\n",
    "    with start_action(action_type='store'):\n",
    "        db.insert(marshaled_response._asdict())\n",
    "        \n",
    "\n",
    "def main(*urls: T.List[str]) -> None:\n",
    "    \"\"\"Download, marshal, and store the content of each url.\"\"\"\n",
    "    \n",
    "    db = TinyDB('db.json')\n",
    "                \n",
    "    with start_action(action_type='download_marshal_and_store', urls=urls):\n",
    "        for url in urls:\n",
    "            try:\n",
    "                response = download(url)\n",
    "                json_string = marshal(response)\n",
    "                store(json_string, db)\n",
    "            except:\n",
    "                continue\n",
    "    "
   ]
  },
  {
   "cell_type": "code",
   "execution_count": 3,
   "metadata": {
    "ExecuteTime": {
     "end_time": "2018-01-12T17:05:14.005191Z",
     "start_time": "2018-01-12T17:05:10.774495Z"
    }
   },
   "outputs": [],
   "source": [
    "main(\n",
    "    'https://httpbin.org/uuid',\n",
    "    'http://google.com',\n",
    "    'derp'\n",
    ")"
   ]
  },
  {
   "cell_type": "markdown",
   "metadata": {},
   "source": [
    "## Decorator example\n",
    "\n",
    "Here we have an example of a decorator that could wrap any function and provide some logging functionality to it"
   ]
  },
  {
   "cell_type": "code",
   "execution_count": 4,
   "metadata": {
    "ExecuteTime": {
     "end_time": "2018-01-12T17:06:52.938982Z",
     "start_time": "2018-01-12T17:06:50.718853Z"
    }
   },
   "outputs": [
    {
     "ename": "TypeError",
     "evalue": "'int' object is not subscriptable",
     "output_type": "error",
     "traceback": [
      "\u001b[0;31m---------------------------------------------------------------------------\u001b[0m",
      "\u001b[0;31mTypeError\u001b[0m                                 Traceback (most recent call last)",
      "\u001b[0;32m<ipython-input-4-2984a3506a49>\u001b[0m in \u001b[0;36m<module>\u001b[0;34m()\u001b[0m\n\u001b[1;32m     12\u001b[0m \u001b[0;34m\u001b[0m\u001b[0m\n\u001b[1;32m     13\u001b[0m \u001b[0mreverse_string\u001b[0m\u001b[0;34m(\u001b[0m\u001b[0;34m'hello'\u001b[0m\u001b[0;34m,\u001b[0m \u001b[0museless_kwarg\u001b[0m\u001b[0;34m=\u001b[0m\u001b[0;34m\"I'm useless\"\u001b[0m\u001b[0;34m)\u001b[0m\u001b[0;34m\u001b[0m\u001b[0m\n\u001b[0;32m---> 14\u001b[0;31m \u001b[0mreverse_string\u001b[0m\u001b[0;34m(\u001b[0m\u001b[0;34m-\u001b[0m\u001b[0;36m1\u001b[0m\u001b[0;34m)\u001b[0m\u001b[0;34m\u001b[0m\u001b[0m\n\u001b[0m",
      "\u001b[0;32m<ipython-input-4-2984a3506a49>\u001b[0m in \u001b[0;36mwrapper\u001b[0;34m(*args, **kwargs)\u001b[0m\n\u001b[1;32m      3\u001b[0m     \u001b[0;32mdef\u001b[0m \u001b[0mwrapper\u001b[0m\u001b[0;34m(\u001b[0m\u001b[0;34m*\u001b[0m\u001b[0margs\u001b[0m\u001b[0;34m,\u001b[0m \u001b[0;34m**\u001b[0m\u001b[0mkwargs\u001b[0m\u001b[0;34m)\u001b[0m\u001b[0;34m:\u001b[0m\u001b[0;34m\u001b[0m\u001b[0m\n\u001b[1;32m      4\u001b[0m         \u001b[0;32mwith\u001b[0m \u001b[0mstart_action\u001b[0m\u001b[0;34m(\u001b[0m\u001b[0maction_type\u001b[0m\u001b[0;34m=\u001b[0m\u001b[0mfunc\u001b[0m\u001b[0;34m.\u001b[0m\u001b[0m__name__\u001b[0m\u001b[0;34m,\u001b[0m \u001b[0margs\u001b[0m\u001b[0;34m=\u001b[0m\u001b[0margs\u001b[0m\u001b[0;34m,\u001b[0m \u001b[0;34m**\u001b[0m\u001b[0mkwargs\u001b[0m\u001b[0;34m)\u001b[0m\u001b[0;34m:\u001b[0m\u001b[0;34m\u001b[0m\u001b[0m\n\u001b[0;32m----> 5\u001b[0;31m             \u001b[0;32mreturn\u001b[0m \u001b[0mfunc\u001b[0m\u001b[0;34m(\u001b[0m\u001b[0;34m*\u001b[0m\u001b[0margs\u001b[0m\u001b[0;34m,\u001b[0m \u001b[0;34m**\u001b[0m\u001b[0mkwargs\u001b[0m\u001b[0;34m)\u001b[0m\u001b[0;34m\u001b[0m\u001b[0m\n\u001b[0m\u001b[1;32m      6\u001b[0m     \u001b[0;32mreturn\u001b[0m \u001b[0mwrapper\u001b[0m\u001b[0;34m\u001b[0m\u001b[0m\n\u001b[1;32m      7\u001b[0m \u001b[0;34m\u001b[0m\u001b[0m\n",
      "\u001b[0;32m<ipython-input-4-2984a3506a49>\u001b[0m in \u001b[0;36mreverse_string\u001b[0;34m(string, **kwargs)\u001b[0m\n\u001b[1;32m      9\u001b[0m \u001b[0;34m@\u001b[0m\u001b[0mlogify\u001b[0m\u001b[0;34m\u001b[0m\u001b[0m\n\u001b[1;32m     10\u001b[0m \u001b[0;32mdef\u001b[0m \u001b[0mreverse_string\u001b[0m\u001b[0;34m(\u001b[0m\u001b[0mstring\u001b[0m\u001b[0;34m,\u001b[0m \u001b[0;34m**\u001b[0m\u001b[0mkwargs\u001b[0m\u001b[0;34m)\u001b[0m\u001b[0;34m:\u001b[0m\u001b[0;34m\u001b[0m\u001b[0m\n\u001b[0;32m---> 11\u001b[0;31m     \u001b[0;32mreturn\u001b[0m \u001b[0mstring\u001b[0m\u001b[0;34m[\u001b[0m\u001b[0;34m:\u001b[0m\u001b[0;34m:\u001b[0m\u001b[0;34m-\u001b[0m\u001b[0;36m1\u001b[0m\u001b[0;34m]\u001b[0m\u001b[0;34m\u001b[0m\u001b[0m\n\u001b[0m\u001b[1;32m     12\u001b[0m \u001b[0;34m\u001b[0m\u001b[0m\n\u001b[1;32m     13\u001b[0m \u001b[0mreverse_string\u001b[0m\u001b[0;34m(\u001b[0m\u001b[0;34m'hello'\u001b[0m\u001b[0;34m,\u001b[0m \u001b[0museless_kwarg\u001b[0m\u001b[0;34m=\u001b[0m\u001b[0;34m\"I'm useless\"\u001b[0m\u001b[0;34m)\u001b[0m\u001b[0;34m\u001b[0m\u001b[0m\n",
      "\u001b[0;31mTypeError\u001b[0m: 'int' object is not subscriptable"
     ]
    }
   ],
   "source": [
    "def logify(func):\n",
    "    \"\"\"Wrap a function in a eliot logger.\"\"\"\n",
    "    def wrapper(*args, **kwargs):\n",
    "        with start_action(action_type=func.__name__, args=args, **kwargs):\n",
    "            return func(*args, **kwargs)\n",
    "    return wrapper\n",
    "\n",
    "\n",
    "@logify\n",
    "def reverse_string(string, **kwargs):\n",
    "    return string[::-1]\n",
    "\n",
    "reverse_string('hello', useless_kwarg=\"I'm useless\")\n",
    "reverse_string(-1)"
   ]
  },
  {
   "cell_type": "code",
   "execution_count": null,
   "metadata": {
    "ExecuteTime": {
     "end_time": "2018-01-12T16:57:10.124501Z",
     "start_time": "2018-01-12T16:57:10.119610Z"
    }
   },
   "outputs": [],
   "source": [
    "import time\n",
    "import random\n",
    "\n",
    "urls = [\n",
    "    'https://httpbin.org/user-agent',\n",
    "    'https://httpbin.org/ip',\n",
    "    'https://httpbin.org/uuid',\n",
    "    'https://httpbin.org/headers',\n",
    "    'https://httpbin.org/get',\n",
    "    'https://httpbin.org/robots.txt',\n",
    "    'https://httpbin.org/xml',\n",
    "    'http://google.com',\n",
    "    'derp'\n",
    "]\n",
    "\n",
    "while True:\n",
    "    time.sleep(3/random.randrange(1, 6))\n",
    "    main(*random.choices(urls, k=random.randrange(1, 4)))\n",
    "    "
   ]
  },
  {
   "cell_type": "code",
   "execution_count": null,
   "metadata": {},
   "outputs": [],
   "source": []
  }
 ],
 "metadata": {
  "_draft": {
   "nbviewer_url": "https://gist.github.com/edf0ec63d6626cb1c0ac04862e9c346b"
  },
  "gist": {
   "data": {
    "description": "a lightning talk on eliot",
    "public": true
   },
   "id": "edf0ec63d6626cb1c0ac04862e9c346b"
  },
  "hide_input": false,
  "kernelspec": {
   "display_name": "Python 3",
   "language": "python",
   "name": "python3"
  },
  "language_info": {
   "codemirror_mode": {
    "name": "ipython",
    "version": 3
   },
   "file_extension": ".py",
   "mimetype": "text/x-python",
   "name": "python",
   "nbconvert_exporter": "python",
   "pygments_lexer": "ipython3",
   "version": "3.6.4"
  }
 },
 "nbformat": 4,
 "nbformat_minor": 2
}
